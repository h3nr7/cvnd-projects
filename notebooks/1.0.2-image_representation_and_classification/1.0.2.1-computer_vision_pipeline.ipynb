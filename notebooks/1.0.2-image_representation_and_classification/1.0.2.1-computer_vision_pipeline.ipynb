{
 "cells": [
  {
   "cell_type": "markdown",
   "metadata": {},
   "source": [
    "# Computer vision pipeline\n",
    "\n",
    "1. Input data\n",
    "2. Pre-processing\n",
    "3. Selecting areas of interest\n",
    "4. Feature extraction\n",
    "\n",
    "\n",
    "<img src='./capture_1.JPG' />\n",
    "\n",
    "Example:\n",
    "\n",
    "<img src='./capture_2.JPG' />\n",
    "\n",
    "\n",
    "# Separating data\n",
    "\n",
    "<img src='./capture_3.JPG' />\n",
    "\n",
    "\n",
    "\n",
    "# Images as grids of pixels\n",
    "\n",
    "Pixel location at $(x, y)$, on a grayscale image we get the intensity of at that pixel.\n",
    "\n",
    "\n",
    "# Color Images\n",
    "\n",
    "RGB images have depth of 3 colours.\n",
    "\n"
   ]
  },
  {
   "cell_type": "code",
   "execution_count": null,
   "metadata": {},
   "outputs": [],
   "source": []
  }
 ],
 "metadata": {
  "kernelspec": {
   "display_name": "Python 3",
   "language": "python",
   "name": "python3"
  },
  "language_info": {
   "codemirror_mode": {
    "name": "ipython",
    "version": 3
   },
   "file_extension": ".py",
   "mimetype": "text/x-python",
   "name": "python",
   "nbconvert_exporter": "python",
   "pygments_lexer": "ipython3",
   "version": "3.6.5"
  }
 },
 "nbformat": 4,
 "nbformat_minor": 2
}
