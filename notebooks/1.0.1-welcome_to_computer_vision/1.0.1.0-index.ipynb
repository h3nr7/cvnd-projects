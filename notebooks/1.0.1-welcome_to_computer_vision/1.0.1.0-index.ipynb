{
 "cells": [
  {
   "cell_type": "markdown",
   "metadata": {},
   "source": [
    "# About\n",
    "\n",
    "This is a the github notebook for my study in Computer Vision  Nanodegree at Udacity.  The course has 3 main section and 3 corresponding coursework as follow.\n",
    "\n",
    "1. **Intro to Computer Vision** - Facial Keypoint Detection\n",
    "\n",
    "2. **Advanced Computer Vision and Deep Learning** - Automatic Image Captioninig\n",
    "\n",
    "3. **Object Tracking and Localization** - Simultaneous Localization and Mapping (SLAM)\n",
    "\n",
    "\n",
    "\n",
    "\n",
    "\n",
    "\n",
    "\n",
    "\n",
    "\n"
   ]
  },
  {
   "cell_type": "code",
   "execution_count": null,
   "metadata": {},
   "outputs": [],
   "source": []
  }
 ],
 "metadata": {
  "kernelspec": {
   "display_name": "Python 3",
   "language": "python",
   "name": "python3"
  },
  "language_info": {
   "codemirror_mode": {
    "name": "ipython",
    "version": 3
   },
   "file_extension": ".py",
   "mimetype": "text/x-python",
   "name": "python",
   "nbconvert_exporter": "python",
   "pygments_lexer": "ipython3",
   "version": "3.6.5"
  }
 },
 "nbformat": 4,
 "nbformat_minor": 2
}
